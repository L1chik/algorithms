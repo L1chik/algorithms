{
 "cells": [
  {
   "cell_type": "markdown",
   "metadata": {
    "ExecuteTime": {
     "end_time": "2021-03-21T20:29:26.419362Z",
     "start_time": "2021-03-21T20:29:26.416365Z"
    }
   },
   "source": [
    "# Лабораторная работа 2. Методы поиска.\n",
    "\n",
    "## Задание №1"
   ]
  },
  {
   "cell_type": "code",
   "execution_count": 64,
   "metadata": {
    "ExecuteTime": {
     "end_time": "2021-03-29T21:21:28.621136Z",
     "start_time": "2021-03-29T21:21:27.252148Z"
    }
   },
   "outputs": [],
   "source": [
    "import random\n",
    "import pandas as pd\n",
    "import statistics\n",
    "import numpy as np\n",
    "import pyreal"
   ]
  },
  {
   "cell_type": "code",
   "execution_count": 65,
   "metadata": {
    "ExecuteTime": {
     "end_time": "2021-03-29T21:21:28.994558Z",
     "start_time": "2021-03-29T21:21:28.975608Z"
    }
   },
   "outputs": [],
   "source": [
    "# Предобработка\n",
    "\n",
    "# Array generation\n",
    "def gen_arr(n=50, min_limit=0, max_limit=100):\n",
    "    arr = [random.randint(min_limit, max_limit) for j in range(n)]\n",
    "    \n",
    "    return arr\n",
    "\n",
    "\n",
    "## HEAPSORT\n",
    "def heapify(matrix_str):\n",
    "    for it in reversed(range(1, len(matrix_str))):\n",
    "        parent = (it - 1)//2\n",
    "        if matrix_str[parent] > matrix_str[it]:\n",
    "            matrix_str[parent], matrix_str[it] = matrix_str[it], matrix_str[parent]\n",
    "            \n",
    "            \n",
    "def heap_sorted(it):\n",
    "    result = []\n",
    "    matrix_str = list(it)\n",
    "    \n",
    "    while matrix_str:\n",
    "        heapify(matrix_str)\n",
    "        result.append(matrix_str.pop(0))\n",
    "        \n",
    "    return result"
   ]
  },
  {
   "cell_type": "code",
   "execution_count": 93,
   "metadata": {
    "ExecuteTime": {
     "end_time": "2021-03-29T21:39:10.128198Z",
     "start_time": "2021-03-29T21:39:10.100657Z"
    }
   },
   "outputs": [],
   "source": [
    "# BINARY SEARCH\n",
    "def binary_search(arr, val):\n",
    "    if len(arr)==0 or (len(arr)==1 and arr[0]!=val):\n",
    "        return False\n",
    "\n",
    "    mid = len(arr)//2\n",
    "    \n",
    "    if val == arr[mid]: return mid\n",
    "    elif val < arr[mid]: return binary_search(arr[:len(arr)//2], val) # из-за создания среза индекс элеменита получается неправильны\n",
    "    elif val > arr[mid]: return binary_search(arr[len(arr)//2+1:], val)\n",
    "\n",
    "    \n",
    "    \n",
    "def binary_search2(arr, val, start, end):\n",
    "    if len(arr)==0 or (len(arr)==1 and arr[0]!=val):\n",
    "        return False\n",
    "\n",
    "    mid = (start+end) // 2  # вместо срезов ввожу граничные элементы\n",
    "    \n",
    "    if val == arr[mid]: return print(\"Index of {0} is {1}.\".format(val, mid))\n",
    "    elif val < arr[mid]: return binary_search2(arr, val, start, mid-1)\n",
    "    elif val > arr[mid]: return binary_search2(arr, val, mid+1, end)\n",
    "    \n",
    "    \n",
    "# BALANCED BINARY TREE SEARCH \n",
    "class Node:\n",
    "    def __init__(self, d):\n",
    "        self.data = d\n",
    "        self.left = None\n",
    "        self.right = None\n",
    "        \n",
    "        \n",
    "def arr_to_bbts(arr):\n",
    "    if not arr: \n",
    "        return None\n",
    "    \n",
    "    mid = (len(arr)) // 2\n",
    "    root = Node(arr[mid])\n",
    "    root.left = arr_to_bbts(arr[:mid])\n",
    "    root.right = arr_to_bbts(arr[mid+1:])\n",
    "    \n",
    "    return root\n",
    "    \n",
    "\n",
    "def preOrder(node): \n",
    "    if not node: \n",
    "        return\n",
    "    print(node.data)\n",
    "    preOrder(node.left) \n",
    "    preOrder(node.right)\n",
    "    \n",
    "def search(root,key): #реализовать вывод индекса\n",
    "    if root is None or root.data == key:\n",
    "        return root.data, True\n",
    "    \n",
    "    if root.data < key:\n",
    "        return search(root.right,key)\n",
    "        \n",
    "    return search(root.left,key)\n",
    "    \n",
    "\n",
    "\n",
    "# FIBONACCI SEARCH\n",
    "# create fibonacci sequance depending on the array length\n",
    "def fib_gen(n):\n",
    "    if n < 1: return 0\n",
    "    elif n == 1: return 1\n",
    "    else: return fib_gen(n-1) + fib_gen(n-2)\n",
    "    \n",
    "    \n",
    "def fib_search(arr, val):\n",
    "    n = 0\n",
    "    offset = -1\n",
    "    \n",
    "    while fib_gen(n) < len(arr):\n",
    "        n += 1\n",
    "    while (fib_gen(n) > 1):\n",
    "        i = min(offset + fib_gen(n-2), len(arr)-1)\n",
    "        if(val > arr[i]):\n",
    "            n -= 1\n",
    "            offset = i\n",
    "        elif(val < arr[i]):\n",
    "            n -=2\n",
    "        else: return print(\"Index of {0} is {1}.\".format(val, i))\n",
    "        \n",
    "    if(fib_gen(n - 1) and arr[offset + 1] == val):\n",
    "        return offset + 1\n",
    "    \n",
    "    return print(\"Item is not in list\")\n",
    "\n",
    "\n",
    "# INTERPOLATION SEARCH\n",
    "def interpolation_search(arr, val):\n",
    "    low = 0\n",
    "    high = len(arr) - 1\n",
    "    \n",
    "    while (low <= high and val >= arr[low] and val <= arr[high]):\n",
    "        middle = low + int(((high-low) / (arr[high]-arr[low])) * (val-arr[low]))\n",
    "        guess = arr[middle]\n",
    "        \n",
    "        if guess == val:\n",
    "             return middle\n",
    "        if guess < val:\n",
    "            low = middle + 1\n",
    "        if guess > val:\n",
    "            highg = middle - 1\n",
    "    return print(\"Item is not in list\")"
   ]
  },
  {
   "cell_type": "code",
   "execution_count": 94,
   "metadata": {
    "ExecuteTime": {
     "end_time": "2021-03-29T21:21:30.662081Z",
     "start_time": "2021-03-29T21:21:30.650630Z"
    }
   },
   "outputs": [
    {
     "data": {
      "text/plain": [
       "[12, 17, 30, 31, 37, 45, 59, 66, 67, 82]"
      ]
     },
     "execution_count": 94,
     "metadata": {},
     "output_type": "execute_result"
    }
   ],
   "source": [
    "arr = gen_arr(10)\n",
    "arr = heap_sorted(arr)\n",
    "arr"
   ]
  },
  {
   "cell_type": "markdown",
   "metadata": {},
   "source": [
    "### Проверка бинрарного поиска:"
   ]
  },
  {
   "cell_type": "code",
   "execution_count": 96,
   "metadata": {
    "ExecuteTime": {
     "end_time": "2021-03-29T21:21:40.797498Z",
     "start_time": "2021-03-29T21:21:40.782566Z"
    }
   },
   "outputs": [
    {
     "name": "stdout",
     "output_type": "stream",
     "text": [
      "Index of 12 is 0.\n"
     ]
    }
   ],
   "source": [
    "binary_search2(arr, 12, 0, len(arr))"
   ]
  },
  {
   "cell_type": "markdown",
   "metadata": {},
   "source": [
    "### Проверка бинрарного дерева:"
   ]
  },
  {
   "cell_type": "code",
   "execution_count": null,
   "metadata": {
    "ExecuteTime": {
     "end_time": "2021-03-29T21:38:53.297191Z",
     "start_time": "2021-03-29T21:38:53.283735Z"
    },
    "scrolled": true
   },
   "outputs": [],
   "source": [
    "# arr = [1, 2, 3, 4, 5, 6, 7] \n",
    "root = arr_to_bbts(arr)\n",
    "print(preOrder(root))\n",
    "search(root, 13)"
   ]
  },
  {
   "cell_type": "markdown",
   "metadata": {
    "ExecuteTime": {
     "end_time": "2021-03-30T07:59:15.443109Z",
     "start_time": "2021-03-30T07:59:15.426127Z"
    }
   },
   "source": [
    "### Проверка фибоначчиева поиска:"
   ]
  },
  {
   "cell_type": "code",
   "execution_count": null,
   "metadata": {
    "ExecuteTime": {
     "end_time": "2021-03-28T23:30:19.464472Z",
     "start_time": "2021-03-28T23:30:19.458488Z"
    }
   },
   "outputs": [],
   "source": [
    "fib_search(arr, 9)"
   ]
  },
  {
   "cell_type": "markdown",
   "metadata": {},
   "source": [
    "### Проверка интерполяционного поиска:"
   ]
  },
  {
   "cell_type": "code",
   "execution_count": null,
   "metadata": {
    "ExecuteTime": {
     "end_time": "2021-03-29T21:39:14.753829Z",
     "start_time": "2021-03-29T21:39:14.749840Z"
    }
   },
   "outputs": [],
   "source": [
    "interpolation_search(arr, 15)"
   ]
  },
  {
   "cell_type": "markdown",
   "metadata": {},
   "source": [
    "## Задание №2\n",
    "\n",
    "### Хэш таблицы, исправление коллизий разными методами"
   ]
  },
  {
   "cell_type": "code",
   "execution_count": 97,
   "metadata": {
    "ExecuteTime": {
     "end_time": "2021-03-30T08:58:59.008038Z",
     "start_time": "2021-03-30T08:58:58.984250Z"
    }
   },
   "outputs": [],
   "source": [
    "# Предобработка\n",
    "# Hash table generation\n",
    "\n",
    "# SIMPLE HASH\n",
    "class HashTable:\n",
    "    def __init__(self):\n",
    "        self.max = 10\n",
    "        self.arr = [None for i in range(self.max)]\n",
    "        \n",
    "        \n",
    "    def get_hash(self, key):\n",
    "        hash = 0\n",
    "        \n",
    "        for char in key:\n",
    "            hash += ord(char) # return the numerical representation of the char\n",
    "            \n",
    "        return hash % self.max\n",
    "    \n",
    "    \n",
    "    def __getitem__(self, index):\n",
    "        h = self.get_hash(index)\n",
    "        \n",
    "        return self.arr[h]\n",
    "    \n",
    "    def __setitem__(self, key, val):\n",
    "        h = self.get_hash(key)\n",
    "        self.arr[h] = val\n",
    "        \n",
    "\n",
    "# CHAINS METHOD && DELETE ELEMENTS\n",
    "class HashTableChains:\n",
    "    def __init__(self):\n",
    "        self.max = 10\n",
    "        self.arr = [[] for i in range(self.max)]\n",
    "        \n",
    "        \n",
    "    def get_hash(self, key):\n",
    "        hash = 0\n",
    "        \n",
    "        for char in key:\n",
    "            hash += ord(char) # return the numerical representation of the char\n",
    "            \n",
    "        return hash % self.max\n",
    "    \n",
    "    \n",
    "    def __getitem__(self, key):\n",
    "        h = self.get_hash(key)\n",
    "        \n",
    "        for element in self.arr[h]:\n",
    "            if element[0] == key:\n",
    "                return element[1]\n",
    "        \n",
    "        return self.arr[h]\n",
    "    \n",
    "    \n",
    "    def __setitem__(self, key, val):\n",
    "        h = self.get_hash(key)\n",
    "        ready = False\n",
    "        \n",
    "        for it, element in enumerate(self.arr[h]):\n",
    "            if len(element) == 2 and element[0] == key:\n",
    "                self.arr[h][it] = (key, val)\n",
    "                ready = True\n",
    "                \n",
    "                break\n",
    "                \n",
    "        if not ready:\n",
    "            self.arr[h].append((key, val))\n",
    "            \n",
    "            \n",
    "    def __delitem__(self, key):\n",
    "        h = self.get_hash(key)\n",
    "        \n",
    "        for it, element in enumerate(self.arr[h]):\n",
    "            if element[0] == key:\n",
    "                del self.arr[h][it]\n",
    "                \n",
    "\n",
    "class HashTableLinear:\n",
    "    def __init__(self):\n",
    "        self.max = 10\n",
    "        self.arr = [None for i in range(self.max)]\n",
    "        \n",
    "        \n",
    "    def get_hash(self, key):\n",
    "        hash = 0\n",
    "        \n",
    "        for char in key:\n",
    "            hash += ord(char) # return the numerical representation of the char\n",
    "            \n",
    "        return hash % self.max\n",
    "    \n",
    "    \n",
    "    def __getitem__(self, key):\n",
    "        h = self.get_hash(key)\n",
    "        \n",
    "        if self.arr[h] is None:\n",
    "            return\n",
    "        \n",
    "        prob_range = self.get_prob_range(h)\n",
    "        for prob_index in prob_range:\n",
    "            element = self.arr[prob_index]\n",
    "            if element is None:\n",
    "                return\n",
    "            if element[0] == key:\n",
    "                return element[1]\n",
    "            \n",
    "            \n",
    "    def __setitem__(self, key, val):\n",
    "        h = self.get_hash(key)\n",
    "        \n",
    "        if self.arr[h] is None:\n",
    "            self.arr[h] = (key,val)\n",
    "        else:\n",
    "            new_h = self.find_slot(key, h)\n",
    "            self.arr[new_h] = (key,val)\n",
    "            \n",
    "        print(self.arr)\n",
    "        \n",
    "        \n",
    "    def get_prob_range(self, index):\n",
    "        return [*range(index, len(self.arr))] + [*range(0,index)]\n",
    "    \n",
    "    def find_slot(self, key, index):\n",
    "        prob_range = self.get_prob_range(index)\n",
    "        \n",
    "        for prob_index in prob_range:\n",
    "            if self.arr[prob_index] is None:\n",
    "                return prob_index\n",
    "            if self.arr[prob_index][0] == key:\n",
    "                return prob_index\n",
    "            \n",
    "        raise Exception(\"Hashmap full\")\n",
    "        \n",
    "    def __delitem__(self, key):\n",
    "        h = self.get_hash(key)\n",
    "        prob_range = self.get_prob_range(h)\n",
    "        \n",
    "        for prob_index in prob_range:\n",
    "            if self.arr[prob_index] is None:\n",
    "                return \n",
    "            if self.arr[prob_index][0] == key:\n",
    "                self.arr[prob_index]=None\n",
    "                \n",
    "        print(self.arr)"
   ]
  },
  {
   "cell_type": "markdown",
   "metadata": {},
   "source": [
    "### Метод цепочек"
   ]
  },
  {
   "cell_type": "code",
   "execution_count": 98,
   "metadata": {
    "ExecuteTime": {
     "end_time": "2021-03-30T08:45:55.218963Z",
     "start_time": "2021-03-30T08:45:55.207001Z"
    }
   },
   "outputs": [],
   "source": [
    "t = HashTableChains()"
   ]
  },
  {
   "cell_type": "code",
   "execution_count": 99,
   "metadata": {},
   "outputs": [
    {
     "data": {
      "text/plain": [
       "9"
      ]
     },
     "execution_count": 99,
     "metadata": {},
     "output_type": "execute_result"
    }
   ],
   "source": [
    "t.get_hash(\"march 6\")\n",
    "е"
   ]
  },
  {
   "cell_type": "code",
   "execution_count": 100,
   "metadata": {
    "ExecuteTime": {
     "end_time": "2021-03-30T08:45:59.132881Z",
     "start_time": "2021-03-30T08:45:59.129884Z"
    }
   },
   "outputs": [],
   "source": [
    "t[\"march 6\"] = 120\n",
    "t[\"march 6\"] = 78\n",
    "t[\"march 8\"] = 67\n",
    "t[\"march 9\"] = 4\n",
    "t[\"march 17\"] = 459"
   ]
  },
  {
   "cell_type": "code",
   "execution_count": 101,
   "metadata": {
    "ExecuteTime": {
     "end_time": "2021-03-30T08:45:59.659848Z",
     "start_time": "2021-03-30T08:45:59.648211Z"
    }
   },
   "outputs": [
    {
     "data": {
      "text/plain": [
       "[[],\n",
       " [('march 8', 67)],\n",
       " [('march 9', 4)],\n",
       " [],\n",
       " [],\n",
       " [],\n",
       " [],\n",
       " [],\n",
       " [],\n",
       " [('march 6', 78), ('march 17', 459)]]"
      ]
     },
     "execution_count": 101,
     "metadata": {},
     "output_type": "execute_result"
    }
   ],
   "source": [
    "t.arr"
   ]
  },
  {
   "cell_type": "code",
   "execution_count": 85,
   "metadata": {
    "ExecuteTime": {
     "end_time": "2021-03-30T08:45:59.971060Z",
     "start_time": "2021-03-30T08:45:59.953122Z"
    }
   },
   "outputs": [
    {
     "data": {
      "text/plain": [
       "78"
      ]
     },
     "execution_count": 85,
     "metadata": {},
     "output_type": "execute_result"
    }
   ],
   "source": [
    "t[\"march 6\"]"
   ]
  },
  {
   "cell_type": "code",
   "execution_count": null,
   "metadata": {
    "ExecuteTime": {
     "end_time": "2021-03-30T08:46:00.907223Z",
     "start_time": "2021-03-30T08:46:00.897130Z"
    }
   },
   "outputs": [],
   "source": [
    "del t[\"march 17\"]"
   ]
  },
  {
   "cell_type": "code",
   "execution_count": null,
   "metadata": {
    "ExecuteTime": {
     "end_time": "2021-03-30T08:46:01.173046Z",
     "start_time": "2021-03-30T08:46:01.156097Z"
    }
   },
   "outputs": [],
   "source": [
    "t.arr"
   ]
  },
  {
   "cell_type": "markdown",
   "metadata": {},
   "source": [
    "## Линейный метод"
   ]
  },
  {
   "cell_type": "code",
   "execution_count": null,
   "metadata": {},
   "outputs": [],
   "source": []
  },
  {
   "cell_type": "markdown",
   "metadata": {},
   "source": [
    "## 8 Queens puzzle"
   ]
  },
  {
   "cell_type": "code",
   "execution_count": 69,
   "metadata": {},
   "outputs": [],
   "source": [
    "n = 8 \n",
    "\n",
    "def gen_board(board):\n",
    "    for i in board:\n",
    "        print(i)"
   ]
  },
  {
   "cell_type": "code",
   "execution_count": 70,
   "metadata": {},
   "outputs": [],
   "source": [
    "def check_board(board, row, col):\n",
    "    for i in range(col):\n",
    "        if board[row][i] == 1:\n",
    "        \n",
    "            return False\n",
    "    \n",
    "    for i,j in zip(range(row, -1, -1), range(col, -1, -1)):\n",
    "        if board[i][j] == 1:\n",
    "            \n",
    "            return False\n",
    "        \n",
    "    for i, j in zip(range(row, n, 1), range(col, -1, -1)):\n",
    "        if board[i][j] == 1:\n",
    "            \n",
    "            return False\n",
    "    \n",
    "    return True\n",
    "\n",
    "\n",
    "def solve_board(board, col):\n",
    "    if col >= n: return True\n",
    "    \n",
    "    for i in range(n):\n",
    "        if check_board(board, i, col):\n",
    "            board[i][col] = 1\n",
    "            \n",
    "            if  solve_board(board, col+1) == True:\n",
    "                return True\n",
    "\n",
    "            board[i][col] = 0\n",
    "    \n",
    "    return False\n",
    "\n",
    "\n",
    "def solve():\n",
    "    board = [[0,0,0,0,0,0,0,0],\n",
    "             [0,0,0,0,0,0,0,0],\n",
    "             [0,0,0,0,0,0,0,0],\n",
    "             [0,0,0,0,0,0,0,0],\n",
    "             [0,0,0,0,0,0,0,0],\n",
    "             [0,0,0,0,0,0,0,0],\n",
    "             [0,0,0,0,0,0,0,0],\n",
    "             [0,0,0,0,0,0,0,0]]\n",
    "    \n",
    "    if solve_board(board, 0) == False:\n",
    "        print(\"Нельзя расставить\")\n",
    "        \n",
    "        return False\n",
    "    \n",
    "    gen_board(board)\n",
    "    \n",
    "    return True"
   ]
  },
  {
   "cell_type": "code",
   "execution_count": 71,
   "metadata": {},
   "outputs": [
    {
     "name": "stdout",
     "output_type": "stream",
     "text": [
      "[1, 0, 0, 0, 0, 0, 0, 0]\n",
      "[0, 0, 0, 0, 0, 0, 1, 0]\n",
      "[0, 0, 0, 0, 1, 0, 0, 0]\n",
      "[0, 0, 0, 0, 0, 0, 0, 1]\n",
      "[0, 1, 0, 0, 0, 0, 0, 0]\n",
      "[0, 0, 0, 1, 0, 0, 0, 0]\n",
      "[0, 0, 0, 0, 0, 1, 0, 0]\n",
      "[0, 0, 1, 0, 0, 0, 0, 0]\n"
     ]
    },
    {
     "data": {
      "text/plain": [
       "True"
      ]
     },
     "execution_count": 71,
     "metadata": {},
     "output_type": "execute_result"
    }
   ],
   "source": [
    "solve()"
   ]
  },
  {
   "cell_type": "markdown",
   "metadata": {},
   "source": [
    "##  Balloons"
   ]
  },
  {
   "cell_type": "code",
   "execution_count": 89,
   "metadata": {},
   "outputs": [],
   "source": [
    "class Solve:\n",
    "    def find_arrows(self, points):\n",
    "        points = sorted(points, key = lambda x: x[1])\n",
    "        count = 0\n",
    "        end = float('-inf')\n",
    "        \n",
    "        for balloon in points:\n",
    "            if balloon[0] > end:\n",
    "                count += 1\n",
    "                end = balloon[1]\n",
    "        \n",
    "        return count"
   ]
  },
  {
   "cell_type": "code",
   "execution_count": 90,
   "metadata": {},
   "outputs": [],
   "source": [
    "t = Solve()"
   ]
  },
  {
   "cell_type": "code",
   "execution_count": 92,
   "metadata": {},
   "outputs": [
    {
     "data": {
      "text/plain": [
       "2"
      ]
     },
     "execution_count": 92,
     "metadata": {},
     "output_type": "execute_result"
    }
   ],
   "source": [
    "t.find_arrows(points=[[10,16],[2,8],[1,6],[7,12]])"
   ]
  },
  {
   "cell_type": "code",
   "execution_count": null,
   "metadata": {},
   "outputs": [],
   "source": []
  }
 ],
 "metadata": {
  "celltoolbar": "Raw Cell Format",
  "kernelspec": {
   "display_name": "Python 3",
   "language": "python",
   "name": "python3"
  },
  "language_info": {
   "codemirror_mode": {
    "name": "ipython",
    "version": 3
   },
   "file_extension": ".py",
   "mimetype": "text/x-python",
   "name": "python",
   "nbconvert_exporter": "python",
   "pygments_lexer": "ipython3",
   "version": "3.8.6"
  }
 },
 "nbformat": 4,
 "nbformat_minor": 4
}
