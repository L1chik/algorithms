{
 "cells": [
  {
   "cell_type": "markdown",
   "metadata": {},
   "source": [
    "# Tasks"
   ]
  },
  {
   "cell_type": "code",
   "execution_count": 1,
   "metadata": {},
   "outputs": [],
   "source": [
    "import sys"
   ]
  },
  {
   "cell_type": "markdown",
   "metadata": {},
   "source": [
    "### Задача 1"
   ]
  },
  {
   "cell_type": "code",
   "execution_count": 2,
   "metadata": {},
   "outputs": [],
   "source": [
    "# Предобработка\n",
    "def CanBreak(first_line=\"abe\", second_line=\"acd\") -> bool:\n",
    "    first_line = sorted(first_line)\n",
    "    second_line = sorted(second_line)\n",
    "    \n",
    "    truth = [True if first_line[i] <= second_line[i] else\n",
    "            False for i in range(len(first_line))]\n",
    "    \n",
    "    if False not in truth:\n",
    "        return True\n",
    "    else:\n",
    "        return False"
   ]
  },
  {
   "cell_type": "code",
   "execution_count": 3,
   "metadata": {},
   "outputs": [
    {
     "data": {
      "text/plain": [
       "True"
      ]
     },
     "execution_count": 3,
     "metadata": {},
     "output_type": "execute_result"
    }
   ],
   "source": [
    "CanBreak(\"abc\", \"xya\")"
   ]
  },
  {
   "cell_type": "markdown",
   "metadata": {},
   "source": [
    "### Задача 2"
   ]
  },
  {
   "cell_type": "code",
   "execution_count": 4,
   "metadata": {},
   "outputs": [],
   "source": [
    "# Предобработка\n",
    "def Palindrome(line=\"babad\") -> str:\n",
    "    tmp = \"\"\n",
    "    \n",
    "    for i in range(len(line)):\n",
    "        for j in range(len(line), i, -1):\n",
    "            if len(tmp) >= j-i:\n",
    "                break\n",
    "                \n",
    "            elif line[i:j] == line[i:j][::-1]:\n",
    "                tmp = line[i:j]\n",
    "                break\n",
    "                \n",
    "    return tmp"
   ]
  },
  {
   "cell_type": "code",
   "execution_count": 5,
   "metadata": {},
   "outputs": [
    {
     "data": {
      "text/plain": [
       "'bb'"
      ]
     },
     "execution_count": 5,
     "metadata": {},
     "output_type": "execute_result"
    }
   ],
   "source": [
    "Palindrome(\"cbbd\")"
   ]
  },
  {
   "cell_type": "markdown",
   "metadata": {},
   "source": [
    "### Задача 3"
   ]
  },
  {
   "cell_type": "code",
   "execution_count": 6,
   "metadata": {},
   "outputs": [],
   "source": [
    "# Предобработка\n",
    "def Substring(line=\"abcabcabc\") -> int:\n",
    "    dictionary = set()\n",
    "    \n",
    "    for i in range(len(line)):\n",
    "        for j in range(1, len(line)-i):\n",
    "            it = 1\n",
    "            \n",
    "            while i+(it+1)*j <= len(line):\n",
    "                if line[i:i+it*j] == line[i+it*j:\n",
    "                                         i+(it+1)*j]:\n",
    "                    dictionary.add(line[i:i+(it+1)*j])\n",
    "                    it *= 2\n",
    "                else:\n",
    "                    break\n",
    "                    \n",
    "    return len(dictionary)"
   ]
  },
  {
   "cell_type": "code",
   "execution_count": 7,
   "metadata": {},
   "outputs": [
    {
     "data": {
      "text/plain": [
       "2"
      ]
     },
     "execution_count": 7,
     "metadata": {},
     "output_type": "execute_result"
    }
   ],
   "source": [
    "Substring(\"mkiitmkiit\")"
   ]
  },
  {
   "cell_type": "markdown",
   "metadata": {},
   "source": [
    "### Стопки монет"
   ]
  },
  {
   "cell_type": "code",
   "execution_count": 8,
   "metadata": {},
   "outputs": [],
   "source": [
    "def maxCoins(piles=[2,4,1,2,7,8]) -> int:\n",
    "        piles.sort()\n",
    "        it = 0 \n",
    "        \n",
    "        for i in range(len(piles)//3, len(piles), 2):\n",
    "            it += piles[i]\n",
    "\n",
    "        return it"
   ]
  },
  {
   "cell_type": "code",
   "execution_count": 9,
   "metadata": {},
   "outputs": [
    {
     "data": {
      "text/plain": [
       "4"
      ]
     },
     "execution_count": 9,
     "metadata": {},
     "output_type": "execute_result"
    }
   ],
   "source": [
    "maxCoins([2,4,5]) #"
   ]
  },
  {
   "cell_type": "code",
   "execution_count": null,
   "metadata": {},
   "outputs": [],
   "source": []
  }
 ],
 "metadata": {
  "kernelspec": {
   "display_name": "Python 3",
   "language": "python",
   "name": "python3"
  },
  "language_info": {
   "codemirror_mode": {
    "name": "ipython",
    "version": 3
   },
   "file_extension": ".py",
   "mimetype": "text/x-python",
   "name": "python",
   "nbconvert_exporter": "python",
   "pygments_lexer": "ipython3",
   "version": "3.8.6"
  }
 },
 "nbformat": 4,
 "nbformat_minor": 4
}
